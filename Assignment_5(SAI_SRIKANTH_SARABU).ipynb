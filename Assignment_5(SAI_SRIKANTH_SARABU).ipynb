{
  "nbformat": 4,
  "nbformat_minor": 0,
  "metadata": {
    "colab": {
      "name": "Assignment_5(SAI SRIKANTH SARABU).ipynb",
      "provenance": [],
      "collapsed_sections": []
    },
    "kernelspec": {
      "name": "python3",
      "display_name": "Python 3"
    },
    "language_info": {
      "name": "python"
    }
  },
  "cells": [
    {
      "cell_type": "markdown",
      "metadata": {
        "id": "uwIPPHXUb3sn"
      },
      "source": [
        "#SAI SRIKANTH SARABU\n",
        "#CW ID: A20343781"
      ]
    },
    {
      "cell_type": "code",
      "metadata": {
        "id": "R4V9OYfhb_f3"
      },
      "source": [
        "#importing packages\n",
        "import pandas as pd\n",
        "import numpy as np\n",
        "from numpy.linalg import norm"
      ],
      "execution_count": 21,
      "outputs": []
    },
    {
      "cell_type": "code",
      "metadata": {
        "colab": {
          "base_uri": "https://localhost:8080/"
        },
        "id": "wbRcoia3NXRv",
        "outputId": "d5c098fb-d1ab-4aa7-ab5b-eede9ba1924f"
      },
      "source": [
        "from google.colab import drive\n",
        "drive.mount('/content/drive')"
      ],
      "execution_count": 22,
      "outputs": [
        {
          "output_type": "stream",
          "name": "stdout",
          "text": [
            "Drive already mounted at /content/drive; to attempt to forcibly remount, call drive.mount(\"/content/drive\", force_remount=True).\n"
          ]
        }
      ]
    },
    {
      "cell_type": "code",
      "metadata": {
        "id": "J7c8ywbINhOB"
      },
      "source": [
        "training_dataPath= '/content/drive/MyDrive/Sample Data/Assignment-5/training_dataset.csv' #paths of training and test data set\n",
        "testing_dataPath = '/content/drive/MyDrive/Sample Data/Assignment-5/test_dataset.csv'"
      ],
      "execution_count": 23,
      "outputs": []
    },
    {
      "cell_type": "code",
      "metadata": {
        "id": "rtV4ccNoOCvo"
      },
      "source": [
        "trainData = pd.read_csv(training_dataPath)          #creating dataframe by reading csv file \n",
        "utilMat = trainData.pivot_table(index='item_id', columns='user_id', values='rating')    #forming a table from dataframe with movies as rows and users as columns\n",
        "utilMat = utilMat.replace(np.nan, 0)                #assigning the value of empty instance to zero"
      ],
      "execution_count": 24,
      "outputs": []
    },
    {
      "cell_type": "code",
      "metadata": {
        "id": "KWvkUWLJobyg"
      },
      "source": [
        "#Below we are making nested dictionary with key as users and value as a dictionary of movies and values as rating of traning data\n",
        "movies = set()                                      #initializing set to add unique movies in training dataset\n",
        "trainDict = {}                                      #initializing empty dictionary\n",
        "with open(training_dataPath) as f:                  #opening training dataset file \n",
        "  next(f)                                           #ignoring the first row as it is names of the column\n",
        "  for line in f:                                   #iterating through each line\n",
        "    lis = line.split(',')                          #spliting the csv file with ','\n",
        "    movies.add(int(lis[1]))                        #adding movies to the set\n",
        "    usr = int(lis[0])                              #storing user id in a temporary variable\n",
        "    mov = int(lis[1])                              #storing item id in a temporary variable\n",
        "    rat = int(lis[2])                              #storing rating in a temporary variable\n",
        "    if usr not in trainDict.keys():                 #checking if user id is already added in the dictionary\n",
        "      temp_dict={mov:rat}                           #creating a temporary dictionary of movie id and rating\n",
        "      trainDict[usr] = temp_dict                    #adding temporary dictionary to the training dictionary\n",
        "    else:                           \n",
        "      if mov not in trainDict[usr]:                 #if the user is already present checking for the movie id to add    \n",
        "        temp_dict2={mov:rat}                        #creating temporary dictionary of movie id and rating \n",
        "        trainDict[usr].update(temp_dict2)           #updating the training dictionary data main dictionary"
      ],
      "execution_count": 25,
      "outputs": []
    },
    {
      "cell_type": "code",
      "metadata": {
        "id": "arOsfl8h8KLQ"
      },
      "source": [
        "#Below we are making nested dictionary with key as users and value as a dictionary of movies and values as rating of testing data\n",
        "testusers = set()                                 #initializing set to add unique user ids in training dataset\n",
        "testMovies = set()                                #initializing set to add unique movies in training dataset\n",
        "testDict = {}                                     #initializing empty dictionary\n",
        "with open(testing_dataPath) as f:                 #opening test file \n",
        "  next(f)                                         #ignoring the first row as it is names of the column\n",
        "  for line in f:\n",
        "    lis = line.split(',')                         #spliting the csv file with ','\n",
        "    testusers.add(int(lis[0]))                    #adding users to the set\n",
        "    testMovies.add(int(lis[1]))                   #adding movies to the set\n",
        "    usr = int(lis[0])                             #storing user id in a temporary variable\n",
        "    mov = int(lis[1])                             #storing user id in a temporary variable\n",
        "    rat = int(lis[2])                             #storing rating in a temporary variable\n",
        "    if usr not in testDict.keys():                #checking if user id is already added in the dictionary\n",
        "      temp_dict={mov:rat}                         #creating a temporary dictionary of movie id and rating        \n",
        "      testDict[usr] = temp_dict                   #adding temporary dictionary to the training dictionary\n",
        "    else:\n",
        "      if mov not in testDict[usr]:                #if the user is already present checking for the movie id to add  \n",
        "        temp_dict2={mov:rat}                      #creating temporary dictionary of movie id and rating            \n",
        "        testDict[usr].update(temp_dict2)          #updating the testing dictionary data main dictionary"
      ],
      "execution_count": 26,
      "outputs": []
    },
    {
      "cell_type": "markdown",
      "metadata": {
        "id": "NZquecWp2CIv"
      },
      "source": [
        "##Calculating RMSE of Collaborative Filtering with cosine similarity\n",
        "\n"
      ]
    },
    {
      "cell_type": "code",
      "metadata": {
        "id": "Q_eN5JvhK7KN"
      },
      "source": [
        "#below function returns predicted rating and actual rating after performing cosine similarity between movie rating of user from testing data and corresponding\n",
        "#user rated movies and taking wighted average between all the similarities above treshold.\n",
        "def getRatings(utilMat, t):                           \n",
        "  predRating = []                                     #initializing empty list to add all predicted rating\n",
        "  ActualRating = []                                   #initializing empty list to add all actual rating\n",
        "  for k in testDict.keys():                           #iterating over all the users from test dictionary      \n",
        "    for j in list(testDict[k].keys()):                #iterating over each users movie id \n",
        "      if j in movies:                                 #checking if the movie is present in testing data\n",
        "        sumNum = 0                                    #initializing numerator as zero\n",
        "        sumDen = 0                                    #initializing numerator as zero\n",
        "        for i in list(trainDict[k].keys()):           #iterating over all movies of the user in traing dataset\n",
        "          a = np.array(utilMat.loc[j])                #making numpy array of all the user rating of that particular movie\n",
        "          b = np.array(utilMat.loc[i])                #making numpy array of all the user rating of that particular movie\n",
        "          sim = np.dot(a, b)/norm(a)*norm(b)          #dot product of of 2 vectors divided by cross product of those same vectors gives ys cosine similarity\n",
        "          if sim > t:                                 #if the similarity is greater than threshold\n",
        "            sumNum += sim*trainDict[k][i]             #summing up all the product of similarity and rating value other movies rated by same user\n",
        "            sumDen +=sim                              #summping up all the similarities\n",
        "        predRating.append(round(sumNum/sumDen,4))     #appending predicted rating to the list\n",
        "      else:\n",
        "        predRating.append(0)                          #returning zero for all the movies that are not present in the training data\n",
        "      ActualRating.append(testDict[k][j])             #appending actual rating to the list\n",
        "  return predRating, ActualRating                     #returning both actual and predicted rating  "
      ],
      "execution_count": 27,
      "outputs": []
    },
    {
      "cell_type": "code",
      "metadata": {
        "id": "yppXbkDzBn2k"
      },
      "source": [
        "#given function from the question to find RMSE\n",
        "from sklearn.metrics import mean_squared_error\n",
        "from math import sqrt\n",
        "def RMSE(y_actual, y_predicted):\n",
        "  rms = mean_squared_error(y_actual, y_predicted, squared=False)\n",
        "  return round(rms,4)"
      ],
      "execution_count": 28,
      "outputs": []
    },
    {
      "cell_type": "code",
      "metadata": {
        "id": "-kEOp4pAidRv"
      },
      "source": [
        "predRating, ActualRating = getRatings(utilMat, 0.5) #calling getRating to get actual and predicted rating by sending utility matrix and treshold as parameters"
      ],
      "execution_count": 29,
      "outputs": []
    },
    {
      "cell_type": "markdown",
      "metadata": {
        "id": "MJchkZOE0Oo-"
      },
      "source": [
        "**RMSE for Collaborative Filtering with cosine similarity**"
      ]
    },
    {
      "cell_type": "code",
      "metadata": {
        "id": "tRS9P3mBCELY",
        "colab": {
          "base_uri": "https://localhost:8080/"
        },
        "outputId": "8f70ffa4-3c84-4614-fc72-1cd61d9ea47b"
      },
      "source": [
        "a = RMSE(ActualRating,predRating)            \n",
        "print(a)           "
      ],
      "execution_count": 30,
      "outputs": [
        {
          "output_type": "stream",
          "name": "stdout",
          "text": [
            "1.0984\n"
          ]
        }
      ]
    },
    {
      "cell_type": "markdown",
      "metadata": {
        "id": "J4DIWk6K6WnE"
      },
      "source": [
        "#BONUS"
      ]
    },
    {
      "cell_type": "markdown",
      "metadata": {
        "id": "JkKvSwaS1S43"
      },
      "source": [
        "##Calculating RMSE of Global baseline estimates"
      ]
    },
    {
      "cell_type": "code",
      "metadata": {
        "id": "076h9Mg5gaXw"
      },
      "source": [
        "utilMat = utilMat.replace({0:np.nan})           #replacing zeros with nan(not a number) to compute easily\n",
        "\n",
        "overallMean = np.nanmean(utilMat)              #taking mean of all the movies present in the dataset, nan mean will only take mean of number ignoring NaN"
      ],
      "execution_count": 31,
      "outputs": []
    },
    {
      "cell_type": "code",
      "metadata": {
        "id": "Ij4LRZE7me26"
      },
      "source": [
        "userMeanDict = {}                               #Initializing dictonary to get user mean \n",
        "for i in testusers:                             #iterating over all the test dataset users\n",
        "  userMeanDict[i] = round(np.nanmean(utilMat[i]),4)           #taking mean of each users rating and assigning it dictionary userid as key and mean as value"
      ],
      "execution_count": 32,
      "outputs": []
    },
    {
      "cell_type": "code",
      "metadata": {
        "id": "nuz276EenI6B"
      },
      "source": [
        "movieMeanDict = {}                              #Initializing dictonary to get movie mean \n",
        "for i in testMovies:                            #iterating over all the test dataset movies\n",
        "  if i in movies:                               #checking if the movie is present or not in training data or not\n",
        "    movieMeanDict[i] = round(np.nanmean(utilMat.loc[i]),4)      #taking mean of each movie rating and assigning it dictionary userid as key and mean as value\n",
        "  else:\n",
        "    movieMeanDict[i] = 0                                        #assigning mean value as zero if there is no movie present in "
      ],
      "execution_count": 33,
      "outputs": []
    },
    {
      "cell_type": "code",
      "metadata": {
        "id": "jxQTFeTYnaE2"
      },
      "source": [
        "gPredictedRaing = []                            #initializing list to assign predicted rating\n",
        "gActualRating = []                              #initializing list to assign actual rating\n",
        "for k in testDict.keys():                       #iterating over all th users in test data\n",
        "  for j in list(testDict[k].keys()):            #iterating over each user rated movies\n",
        "    if j in movies:                             #checking if the movie is present in the train data\n",
        "    #calculating global baseline  by the for formula 𝑅𝑥𝑖 = 𝜇 + 𝑅𝑥∗ + 𝑅𝑖∗, here 𝜇 is mean of all the movie ratings, 𝑅𝑥∗ is Average rating of user x-𝜇, 𝑅i∗ is Average rating of user i-𝜇,\n",
        "    #adding those gives us  𝜇+x-𝜇+i-𝜇 = x+i-𝜇, therefore below I am adding average movie rating + average user rating - all the movie rating mean\n",
        "      gPredictedRaing.append(userMeanDict[k] + movieMeanDict[j] - overallMean)        \n",
        "    else:\n",
        "      gPredictedRaing.append(0)                 #adding zero to the list of predicted arting\n",
        "    gActualRating.append(testDict[k][j])        #adding actual movie rating to the actual list"
      ],
      "execution_count": 34,
      "outputs": []
    },
    {
      "cell_type": "markdown",
      "metadata": {
        "id": "hpLX3Iou036P"
      },
      "source": [
        "**RMSE for Global baseline estimates**"
      ]
    },
    {
      "cell_type": "code",
      "metadata": {
        "id": "mkqwgPqTvogd",
        "colab": {
          "base_uri": "https://localhost:8080/"
        },
        "outputId": "08bc6712-342d-4e71-bced-925f040c35f4"
      },
      "source": [
        "b = RMSE(gActualRating,gPredictedRaing)\n",
        "print(b)"
      ],
      "execution_count": 35,
      "outputs": [
        {
          "output_type": "stream",
          "name": "stdout",
          "text": [
            "0.9552\n"
          ]
        }
      ]
    },
    {
      "cell_type": "markdown",
      "metadata": {
        "id": "YTtwegko1v6L"
      },
      "source": [
        "##Calculating RMSE of Collaborative Filtering with adjusted cosine similarity\n",
        "\n"
      ]
    },
    {
      "cell_type": "code",
      "metadata": {
        "id": "_jLMp9qfwCj6"
      },
      "source": [
        "\n",
        "utilMat = utilMat.replace({0:np.nan})                 #replacing utility matrix with nan(not a number) to compute adjusted cosine similarity\n",
        "for i in utilMat.columns:                             #iterating over all the columns(users) of the training dataset\n",
        "  utilMat[i] = utilMat[i] - round(np.nanmean(utilMat[i]),4)     #subtracting the mean value of user from each movie rating\n",
        "\n",
        "utilMat = utilMat.replace(np.nan, 0)                  #again changing nan to zeros\n",
        "\n",
        "adPredRating, ActualRating = getRatings(utilMat, 0.5)   #calling getRating to get actual and predicted rating by sending utility matrix and threshold as parameters"
      ],
      "execution_count": 36,
      "outputs": []
    },
    {
      "cell_type": "markdown",
      "metadata": {
        "id": "4geCsbdL0ptk"
      },
      "source": [
        "**RMSE for Collaborative Filtering with adjusted cosine similarity**"
      ]
    },
    {
      "cell_type": "code",
      "metadata": {
        "id": "yYrdbPByzXkl",
        "colab": {
          "base_uri": "https://localhost:8080/"
        },
        "outputId": "153595df-ee07-4679-eeff-f69e42d28fb5"
      },
      "source": [
        "c = RMSE(ActualRating,adPredRating)\n",
        "print(c)"
      ],
      "execution_count": 37,
      "outputs": [
        {
          "output_type": "stream",
          "name": "stdout",
          "text": [
            "0.9268\n"
          ]
        }
      ]
    },
    {
      "cell_type": "markdown",
      "metadata": {
        "id": "TpeyQgS0qhzr"
      },
      "source": [
        "##Comparision"
      ]
    },
    {
      "cell_type": "markdown",
      "metadata": {
        "id": "upHoCTBAqHz7"
      },
      "source": [
        "**Comparision of Collaborative filtering with consine similarity, adjusted cosine similarity and global baseline estimates**"
      ]
    },
    {
      "cell_type": "code",
      "metadata": {
        "colab": {
          "base_uri": "https://localhost:8080/",
          "height": 295
        },
        "id": "Tfwf-_jEovKA",
        "outputId": "93a8c17c-b644-4840-e6a1-20e5795a9776"
      },
      "source": [
        "#graph for Collaborative filtering models vs RMSE for Manhattan distance\n",
        "import matplotlib.pyplot as plt   \n",
        "X = [a,b,c]\n",
        "Y = ['Cosine similarity', 'Global baseline estimates', 'Adjusted Cosine Similarity']\n",
        "plt.plot(Y,X, 'o', label=\"RMSE for different Collaborative Models \", color='black');\n",
        "plt.grid(True,color='k',linestyle=':')\n",
        "plt.title(\"RMSE vs CF Models)\");\n",
        "plt.xlabel(\"Collaborative filtering Models\"); \n",
        "plt.ylabel(\"RMSE\");\n",
        "plt.ylim(0.8, 1.3)\n",
        "leg = plt.legend(loc=0);\n",
        "for text in leg.get_texts():\n",
        "  text.set_color(\"blue\")"
      ],
      "execution_count": 38,
      "outputs": [
        {
          "output_type": "display_data",
          "data": {
            "image/png": "[encoded data removed]",
            "text/plain": [
              "<Figure size 432x288 with 1 Axes>"
            ]
          },
          "metadata": {
            "needs_background": "light"
          }
        }
      ]
    },
    {
      "cell_type": "markdown",
      "metadata": {
        "id": "HaI-L6ztq6CY"
      },
      "source": [
        "RMSE for Collaborative filtering with **cosine similarity is 1.0984** , with **global baseline estimates is 0.9552** ,and with **adjusted cosine similarity is  0.9268**.\n",
        "The RMSE for CF model with consine similarity is slightly higher because of not taking users rating into calculation of predicted ratings, as we are not considering other user perspectives for the movie rating, Where in the adjusted cosine similarity metric, we are normalizing the movie rating by subtracting the user mean and then calculating the predicted rating that is the reason we are getting lower RMSE than normal cosine similarity metric. For Global Baseline estimates, we are taking all movie average rating and each movie average rating for that particulat user, therefore it is not accurate as we are considering all the movie rating as metric. "
      ]
    }
  ]
}